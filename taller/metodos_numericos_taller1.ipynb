{
 "cells": [
  {
   "cell_type": "raw",
   "metadata": {
    "vscode": {
     "languageId": "raw"
    }
   },
   "source": [
    "---\n",
    "lang: es\n",
    "format:\n",
    "  pdf:\n",
    "    papersize: A4\n",
    "    keep-order: true\n",
    "execute:\n",
    "  echo: true\n",
    "  error: false\n",
    "  warning: false\n",
    "jupyter: python3\n",
    "bibliography: ref.bib\n",
    "---"
   ]
  },
  {
   "cell_type": "markdown",
   "metadata": {},
   "source": [
    "# Taller 1 Métodos Numéricos"
   ]
  },
  {
   "cell_type": "markdown",
   "metadata": {},
   "source": [
    "*Nombre:* Luis Enrique Pérez Señalin"
   ]
  },
  {
   "cell_type": "markdown",
   "metadata": {},
   "source": [
    "## Resolver los 3 ejercicios de csacademy"
   ]
  },
  {
   "cell_type": "markdown",
   "metadata": {},
   "source": [
    "### 1. Ejercicio de xplore\n",
    "https://csacademy.com/ieeextreme-practice/task/xplore/"
   ]
  },
  {
   "cell_type": "code",
   "execution_count": 1,
   "metadata": {},
   "outputs": [],
   "source": [
    "import json\n",
    "\n",
    "# Datos de entrada\n",
    "# Paso 1: Leer el número de entradas y los datos JSON\n",
    "N = int(input())\n",
    "entries = []\n",
    "for _ in range(N): entries.append(input())\n",
    "\n",
    "# Procesar los datos\n",
    "author_citations = {}\n",
    "\n",
    "for entry in entries:\n",
    "    data = json.loads(entry)\n",
    "    citing_paper_count = data['citing_paper_count']\n",
    "    for author in data['authors']['authors']:\n",
    "        author_citations[author['full_name']] = []\n",
    "\n",
    "for entry in entries:\n",
    "    data = json.loads(entry)\n",
    "    citing_paper_count = data['citing_paper_count']\n",
    "    for author in data['authors']['authors']:\n",
    "        author_name = author['full_name']\n",
    "        author_citations[author_name].append(citing_paper_count)\n",
    "\n",
    "# Calcular el h-index de cada autor\n",
    "def calculate_h_index(citations):\n",
    "    citations.sort(reverse=True)\n",
    "    h_index = 0\n",
    "    for index, n_citations in enumerate(citations):\n",
    "        # Compara que la cantidad de articulos mínimo tenga\n",
    "        # la misma cantidad de citaciones\n",
    "        if index + 1 <= n_citations:\n",
    "            h_index = index + 1\n",
    "        else:\n",
    "            break\n",
    "    return h_index\n",
    "\n",
    "author_h_index = {}\n",
    "for author in author_citations: author_h_index[author] = calculate_h_index(author_citations[author])\n",
    "\n",
    "# Paso 4: Ordenar los autores por h-index y por nombre alfabético en caso de empate\n",
    "sorted_authors = sorted(author_h_index.items(), key=lambda authors: (-authors[1],authors[0]))\n",
    "#Key, lambda authors, retorna un array, [author, value], primero es por el value, entonces\n",
    "# ponemos authors[1], pero los pone de menor a mayor, por eso agregamos el - al inicio, y\n",
    "# si tienen el mismo value, osea el h_index, usa el valor de authors[0], que son los nombres.\n",
    "\n",
    "# Paso 5: Imprimir los resultados\n",
    "for author, h_index in sorted_authors:\n",
    "    print(f\"{author} {h_index}\")"
   ]
  },
  {
   "cell_type": "markdown",
   "metadata": {},
   "source": [
    "![Captura Xplore, imagen_muestra](./xplore/captura.png)"
   ]
  },
  {
   "cell_type": "markdown",
   "metadata": {},
   "source": [
    "### 3. Ejercicio de Make distinct\n",
    "https://csacademy.com/ieeextreme-practice/task/make-distinct/"
   ]
  },
  {
   "cell_type": "code",
   "execution_count": 3,
   "metadata": {},
   "outputs": [
    {
     "name": "stdout",
     "output_type": "stream",
     "text": [
      "\n"
     ]
    }
   ],
   "source": [
    "from collections import defaultdict\n",
    "\n",
    "n = int(input())\n",
    "numbers = list(map(int, input().split()))\n",
    "\n",
    "list_numbers = sorted(numbers)\n",
    "before_numbers = list(list_numbers)\n",
    "\n",
    "def make_distinct():\n",
    "    numero_alto = 0\n",
    "    viewer = defaultdict()\n",
    "    for i in range(len(list_numbers)-1):\n",
    "        if abs(list_numbers[i] - list_numbers[i+1]) > 1:\n",
    "            numero_alto = list_numbers[i] + 1\n",
    "            break\n",
    "    numero_bajo = list_numbers[0] - 1\n",
    "    for index, number in enumerate(list_numbers):\n",
    "        if (index+1 == len(list_numbers)): break\n",
    "        if number != list_numbers[index + 1]: \n",
    "            viewer[number] = 1\n",
    "            continue\n",
    "        else:\n",
    "            if(numero_alto > abs(numero_bajo)):\n",
    "                list_numbers[index] = numero_bajo\n",
    "                if list_numbers[index] - list_numbers[index-1] > 1: numero_bajo = list_numbers[index]-1 \n",
    "                else: numero_bajo -= 1\n",
    "            else:\n",
    "                for i in range(index, len(list_numbers)-1):\n",
    "                    if abs(list_numbers[i] - list_numbers[i+1]) > 1:\n",
    "                        numero_alto = list_numbers[i] + 1\n",
    "                else:\n",
    "                    numero_alto = list_numbers[len(list_numbers)-1] + 1\n",
    "                    list_numbers[index] = numero_alto\n",
    "                    numero_alto += numero_alto\n",
    "            viewer[number] = 1\n",
    "\n",
    "make_distinct()\n",
    "list_numbers = sorted(list_numbers)\n",
    "\n",
    "def calculate_operations(arr_original, arr_distinct):\n",
    "    operations = 0\n",
    "    # Comparar y calcular las diferencias\n",
    "    for original, distinct in zip(arr_original, arr_distinct):\n",
    "        operations += abs(distinct - original)\n",
    "\n",
    "    return operations\n",
    "\n",
    "print(calculate_operations(before_numbers,list_numbers))"
   ]
  },
  {
   "cell_type": "markdown",
   "metadata": {},
   "source": [
    "![Captura make distinct, imagen_muestra](./make_distinct/capture.PNG)"
   ]
  },
  {
   "cell_type": "markdown",
   "metadata": {},
   "source": [
    "### 3. Ejercicio de Troll Coder\n",
    "https://csacademy.com/ieeextreme-practice/task/troll-coder/"
   ]
  },
  {
   "cell_type": "code",
   "execution_count": null,
   "metadata": {},
   "outputs": [],
   "source": [
    "import sys\n",
    "\n",
    "n = int(input())\n",
    "\n",
    "solucion_actual = [0] * n\n",
    "print(\"Q\", *solucion_actual)\n",
    "sys.stdout.flush()\n",
    "respuesta_actual = int(input())\n",
    "\n",
    "for i in range(n):\n",
    "    solucion_actual[i] = 1 \n",
    "    print(\"Q\", *solucion_actual)\n",
    "    sys.stdout.flush() \n",
    "    nueva_respuesta = int(input())\n",
    "    \n",
    "    if nueva_respuesta <= respuesta_actual:\n",
    "        solucion_actual[i] = 0\n",
    "    else:\n",
    "        respuesta_actual = nueva_respuesta \n",
    "\n",
    "print(\"A\", *solucion_actual)\n",
    "sys.stdout.flush()"
   ]
  },
  {
   "cell_type": "markdown",
   "metadata": {},
   "source": [
    "![Captura Troller code, imagen_muestra](./troll_coder/capture.png)"
   ]
  }
 ],
 "metadata": {
  "kernelspec": {
   "display_name": "Python 3",
   "language": "python",
   "name": "python3"
  },
  "language_info": {
   "codemirror_mode": {
    "name": "ipython",
    "version": 3
   },
   "file_extension": ".py",
   "mimetype": "text/x-python",
   "name": "python",
   "nbconvert_exporter": "python",
   "pygments_lexer": "ipython3",
   "version": "3.12.2"
  }
 },
 "nbformat": 4,
 "nbformat_minor": 2
}
